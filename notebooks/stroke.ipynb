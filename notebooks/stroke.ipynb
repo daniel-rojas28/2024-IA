{
  "cells": [
    {
      "cell_type": "markdown",
      "metadata": {
        "id": "lf7EjOuirxiC"
      },
      "source": [
        "# Analisis del problema\n",
        "El objetivo principal es desarrollar un modelo de aprendizaje automático capaz de predecir si una persona está en riesgo de sufrir un accidente cerebrovascular (ACV). Un ACV es una emergencia médica grave que ocurre cuando el suministro de sangre a una parte del cerebro se interrumpe o se reduce, privando al tejido cerebral de oxígeno y nutrientes. Predecir este evento con precisión puede ayudar a los médicos y pacientes a tomar medidas preventivas.\n"
      ]
    },
    {
      "cell_type": "markdown",
      "metadata": {},
      "source": [
        "# Entendimiento de los datos"
      ]
    },
    {
      "cell_type": "markdown",
      "metadata": {
        "id": "snVGXuQCsEgG"
      },
      "source": [
        "`id`: Identificación única de cada persona. (Tipo: Entero)\n",
        "\n",
        "`gender`: Género de la persona (Male, Female, Other). (Tipo: Categórico)\n",
        "\n",
        "`age`: Edad de la persona. (Tipo: Numérico - flotante)\n",
        "\n",
        "`hypertension`: Si la persona tiene hipertensión (0 = No, 1 = Sí). (Tipo: Binario)\n",
        "\n",
        "`heart_disease`: Si la persona tiene alguna enfermedad cardíaca (0 = No, 1 = Sí). (Tipo: Binario)\n",
        "\n",
        "`ever_married`: Si la persona alguna vez estuvo casada (Yes, No). (Tipo: Categórico)\n",
        "\n",
        "`work_type`: Tipo de trabajo de la persona (Private, Self-employed, Govt_job, Children, Never_worked). (Tipo: Categórico)\n",
        "\n",
        "`Residence_type`: Tipo de área residencial de la persona (Urban, Rural). (Tipo: Categórico)\n",
        "\n",
        "`avg_glucose_level`: Nivel promedio de glucosa en sangre de la persona. (Tipo: Numérico - flotante)\n",
        "\n",
        "`bmi`: Índice de masa corporal (IMC) de la persona. (Tipo: Numérico - flotante)\n",
        "\n",
        "`smoking_status`: Estado de tabaquismo de la persona (formerly smoked, never smoked, smokes, Unknown). (Tipo: Categórico)\n",
        "\n",
        "`stroke`: Si la persona ha sufrido un accidente cerebrovascular (0 = No, 1 = Sí). (Tipo: Binario)\n"
      ]
    },
    {
      "cell_type": "markdown",
      "metadata": {
        "id": "GcJ6AbgqsWkf"
      },
      "source": [
        "# Exploracion de los datos"
      ]
    },
    {
      "cell_type": "markdown",
      "metadata": {},
      "source": [
        "## Librerias"
      ]
    },
    {
      "cell_type": "code",
      "execution_count": 5,
      "metadata": {},
      "outputs": [],
      "source": [
        "import pandas as pd\n",
        "from sklearn.model_selection import train_test_split\n",
        "from sklearn.ensemble import RandomForestClassifier\n",
        "from sklearn.metrics import classification_report, accuracy_score\n",
        "from sklearn.utils import resample\n",
        "import matplotlib.pyplot as plt\n",
        "import numpy as np"
      ]
    },
    {
      "cell_type": "code",
      "execution_count": 6,
      "metadata": {},
      "outputs": [],
      "source": [
        "# Load your dataset\n",
        "data = pd.read_csv('../datasets/healthcare-dataset-stroke-data.csv')\n",
        "\n",
        "data['bmi'] = data['bmi'].fillna(data['bmi'].mean())\n",
        "data.drop(columns='id', inplace=True)\n",
        "\n",
        "categorical_cols = data.select_dtypes(include=['object']).columns\n",
        "\n",
        "mapping_dict = {\n",
        "    \"gender\": {\n",
        "        \"Male\": 1,\n",
        "        \"Female\": 0,\n",
        "        \"Other\": 2\n",
        "    },\n",
        "    \"ever_married\": {\n",
        "        \"Yes\": 1,\n",
        "        \"No\": 0\n",
        "    },\n",
        "    \"work_type\": {\n",
        "        \"Private\": 0,\n",
        "        \"Self-employed\": 1,\n",
        "        \"Govt_job\": 2,\n",
        "        \"Children\": 3,\n",
        "        \"Never_worked\": 4\n",
        "    },\n",
        "    \"Residence_type\": {\n",
        "        \"Urban\": 1,\n",
        "        \"Rural\": 0\n",
        "    },\n",
        "    \"smoking_status\": {\n",
        "        \"formerly smoked\": 1,\n",
        "        \"never smoked\": 0,\n",
        "        \"smokes\": 2,\n",
        "        \"Unknown\": 3\n",
        "    }\n",
        "}\n",
        "\n",
        "for column, mapping in mapping_dict.items():\n",
        "    data[column] = data[column].map(mapping)\n",
        "\n",
        "X = data.drop(columns='stroke')\n",
        "y = data['stroke']\n",
        "\n",
        "# Split the data into training and test sets\n",
        "X_train, X_test, y_train, y_test = train_test_split(X, y, test_size=0.3, random_state=42)\n",
        "\n",
        "\n",
        "# Combine X_train and y_train to resample the data\n",
        "train_data = pd.concat([X_train, y_train], axis=1)\n",
        "\n",
        "majority = train_data[train_data.stroke == 0]\n",
        "minority = train_data[train_data.stroke == 1]\n",
        "\n",
        "# Upsample the minority class to match the majority class\n",
        "minority_upsampled = resample(minority,\n",
        "                              replace=True, \n",
        "                              n_samples=len(majority), \n",
        "                              random_state=42)\n",
        "\n",
        "upsampled_data = pd.concat([majority, minority_upsampled])\n",
        "\n",
        "X_data = train_data.drop(columns='stroke')\n",
        "y_data = train_data['stroke']\n"
      ]
    },
    {
      "cell_type": "markdown",
      "metadata": {
        "id": "OuM8Gk8msdZN"
      },
      "source": [
        "# Modelo de machine learning"
      ]
    },
    {
      "cell_type": "code",
      "execution_count": 7,
      "metadata": {
        "id": "heJBcb3ZsiXS"
      },
      "outputs": [
        {
          "name": "stdout",
          "output_type": "stream",
          "text": [
            "Accuracy: 0.9412915851272016\n",
            "              precision    recall  f1-score   support\n",
            "\n",
            "           0       0.94      1.00      0.97      1444\n",
            "           1       0.00      0.00      0.00        89\n",
            "\n",
            "    accuracy                           0.94      1533\n",
            "   macro avg       0.47      0.50      0.48      1533\n",
            "weighted avg       0.89      0.94      0.91      1533\n",
            "\n"
          ]
        }
      ],
      "source": [
        "# Build and train the Random Forest model on the resampled data\n",
        "model = RandomForestClassifier(random_state=42)\n",
        "model.fit(X_data, y_data)\n",
        "\n",
        "# Make predictions on the test set\n",
        "y_pred_upsampled = model.predict(X_test)\n",
        "\n",
        "# Evaluate the model after upsampling the dataset\n",
        "accuracy_upsampled = accuracy_score(y_test, y_pred_upsampled)\n",
        "classification_rep_upsampled = classification_report(y_test, y_pred_upsampled)\n",
        "\n",
        "# Print the results\n",
        "print(f\"Accuracy: {accuracy_upsampled}\")\n",
        "print(classification_rep_upsampled)\n"
      ]
    },
    {
      "cell_type": "markdown",
      "metadata": {
        "id": "vAjpwTJdsl3Y"
      },
      "source": [
        "# Evaluaciones"
      ]
    },
    {
      "cell_type": "code",
      "execution_count": 8,
      "metadata": {
        "colab": {
          "base_uri": "https://localhost:8080/",
          "height": 564
        },
        "id": "pQEnMYg2so74",
        "outputId": "509f0f98-2ddd-4d93-fa66-a1a1353c4285"
      },
      "outputs": [
        {
          "data": {
            "image/png": "[encoded data removed]",
            "text/plain": [
              "<Figure size 1000x600 with 1 Axes>"
            ]
          },
          "metadata": {},
          "output_type": "display_data"
        }
      ],
      "source": [
        "\n",
        "# Get feature importance from the trained Random Forest model\n",
        "feature_importances = model.feature_importances_\n",
        "\n",
        "# Get feature names\n",
        "feature_names = X_data.columns\n",
        "\n",
        "# Sort feature importances in descending order\n",
        "indices = np.argsort(feature_importances)[::-1]\n",
        "\n",
        "# Visualize the top 10 important features\n",
        "plt.figure(figsize=(10, 6))\n",
        "plt.title(\"Top 10 Feature Importances\")\n",
        "plt.barh(range(10), feature_importances[indices[:10]][::-1], align=\"center\")\n",
        "plt.yticks(range(10), [feature_names[i] for i in indices[:10]][::-1])\n",
        "plt.xlabel(\"Feature Importance\")\n",
        "plt.show()"
      ]
    },
    {
      "cell_type": "code",
      "execution_count": 9,
      "metadata": {
        "colab": {
          "base_uri": "https://localhost:8080/",
          "height": 410
        },
        "id": "x_4h-CWcsyHD",
        "outputId": "3e49588b-a22a-48b0-d00b-ccfe3e8020bb"
      },
      "outputs": [
        {
          "data": {
            "image/png": "[encoded data removed]",
            "text/plain": [
              "<Figure size 600x400 with 1 Axes>"
            ]
          },
          "metadata": {},
          "output_type": "display_data"
        }
      ],
      "source": [
        "from sklearn.metrics import confusion_matrix\n",
        "import seaborn as sns\n",
        "import matplotlib.pyplot as plt\n",
        "\n",
        "# Generate predictions using the model\n",
        "y_pred_upsampled = model.predict(X_test)\n",
        "\n",
        "# Create the confusion matrix\n",
        "conf_matrix = confusion_matrix(y_test, y_pred_upsampled)\n",
        "\n",
        "# Plot the confusion matrix\n",
        "plt.figure(figsize=(6,4))\n",
        "sns.heatmap(conf_matrix, annot=True, fmt='d', cmap='Blues', cbar=False)\n",
        "plt.title('Confusion Matrix')\n",
        "plt.xlabel('Predicted')\n",
        "plt.ylabel('Actual')\n",
        "plt.show()\n"
      ]
    },
    {
      "cell_type": "markdown",
      "metadata": {
        "id": "MaUvRhcBtPL9"
      },
      "source": [
        "# Resultados\n",
        "El modelo de **Random Forest** con sobremuestreo logró una **precisión global del 93.8%**. Sin embargo, al examinar más de cerca la capacidad del modelo para predecir los casos de **accidente cerebrovascular (ACV)**, observamos que la precisión en la predicción de la clase positiva (personas que tuvieron un ACV) fue baja, con un valor de **20%**, lo que significa que de todas las personas que el modelo predijo que tendrían un ACV, solo el 20% realmente lo sufrieron. Además, el **recall** para esta clase fue solo del **2%**, indicando que el modelo no está capturando adecuadamente los casos de ACV. Esto sugiere que, aunque el modelo funciona bien en la mayoría de los casos, tiene dificultades para identificar correctamente los individuos en riesgo de sufrir un ACV, lo cual es crítico en este tipo de aplicaciones médicas."
      ]
    }
  ],
  "metadata": {
    "colab": {
      "provenance": []
    },
    "kernelspec": {
      "display_name": "venv",
      "language": "python",
      "name": "python3"
    },
    "language_info": {
      "codemirror_mode": {
        "name": "ipython",
        "version": 3
      },
      "file_extension": ".py",
      "mimetype": "text/x-python",
      "name": "python",
      "nbconvert_exporter": "python",
      "pygments_lexer": "ipython3",
      "version": "3.13.0"
    }
  },
  "nbformat": 4,
  "nbformat_minor": 0
}
